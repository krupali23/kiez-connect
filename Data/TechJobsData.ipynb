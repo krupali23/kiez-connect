{
 "cells": [
  {
   "cell_type": "code",
   "execution_count": 2,
   "metadata": {
    "colab": {
     "base_uri": "https://localhost:8080/"
    },
    "executionInfo": {
     "elapsed": 25549,
     "status": "ok",
     "timestamp": 1761067515062,
     "user": {
      "displayName": "afsaneh Esmaeelnezhad",
      "userId": "17808120255584342643"
     },
     "user_tz": -120
    },
    "id": "vCiHUWAlxJeF",
    "outputId": "8b826a3e-284a-439a-f846-a49e255c70c1"
   },
   "outputs": [
    {
     "name": "stdout",
     "output_type": "stream",
     "text": [
      "✅ Installation complete!\n",
      "\n"
     ]
    },
    {
     "name": "stderr",
     "output_type": "stream",
     "text": [
      "  WARNING: Failed to remove contents in a temporary directory 'C:\\Users\\krupa\\AppData\\Local\\Packages\\PythonSoftwareFoundation.Python.3.12_qbz5n2kfra8p0\\LocalCache\\local-packages\\Python312\\site-packages\\~egex'.\n",
      "  You can safely remove it manually.\n",
      "  WARNING: Failed to remove contents in a temporary directory 'C:\\Users\\krupa\\AppData\\Local\\Packages\\PythonSoftwareFoundation.Python.3.12_qbz5n2kfra8p0\\LocalCache\\local-packages\\Python312\\site-packages\\~umpy.libs'.\n",
      "  You can safely remove it manually.\n",
      "  WARNING: Failed to remove contents in a temporary directory 'C:\\Users\\krupa\\AppData\\Local\\Packages\\PythonSoftwareFoundation.Python.3.12_qbz5n2kfra8p0\\LocalCache\\local-packages\\Python312\\site-packages\\~umpy'.\n",
      "  You can safely remove it manually.\n",
      "ERROR: pip's dependency resolver does not currently take into account all the packages that are installed. This behaviour is the source of the following dependency conflicts.\n",
      "llama-index-embeddings-instructor 0.4.1 requires sentence-transformers<3,>=2.2.2, but you have sentence-transformers 5.1.0 which is incompatible.\n",
      "llama-index-readers-file 0.5.4 requires pandas<2.3.0, but you have pandas 2.3.3 which is incompatible.\n"
     ]
    }
   ],
   "source": [
    "!pip install -q python-jobspy pandas requests\n",
    "\n",
    "print(\"✅ Installation complete!\\n\")"
   ]
  },
  {
   "cell_type": "code",
   "execution_count": 4,
   "metadata": {
    "colab": {
     "base_uri": "https://localhost:8080/",
     "height": 391
    },
    "executionInfo": {
     "elapsed": 151,
     "status": "error",
     "timestamp": 1761067523830,
     "user": {
      "displayName": "afsaneh Esmaeelnezhad",
      "userId": "17808120255584342643"
     },
     "user_tz": -120
    },
    "id": "6AwYsw9rxU8U",
    "outputId": "24470a31-53b3-4190-d083-d4123bb63182"
   },
   "outputs": [
    {
     "name": "stdout",
     "output_type": "stream",
     "text": [
      "\n",
      "======================================================================\n",
      "🚀 BERLIN TECH JOBS SCRAPER\n",
      "======================================================================\n",
      "\n",
      "🔍 Searching for 'data analyst' jobs in Berlin, Germany...\n"
     ]
    },
    {
     "name": "stderr",
     "output_type": "stream",
     "text": [
      "2025-10-22 04:32:32,701 - ERROR - JobSpy:Glassdoor - Glassdoor response status code 400\n",
      "2025-10-22 04:32:32,712 - ERROR - JobSpy:Glassdoor - Glassdoor: location not parsed\n",
      "2025-10-22 04:32:33,101 - ERROR - JobSpy:ZipRecruiter - ZipRecruiter response status code 403 with response: {\"error_code\":\"geoblocked-gdpr\",\"error_message\":\"This app is not available in the European Union, which enforces the General Data Protection Regulation (GDPR). Because of this regulation, ZipRecruiter cannot provide access at this time.\",\"status_code\":403,\"request_id\":\"CFRAY:992595b7db0f6e5c-IAD\"}\n"
     ]
    },
    {
     "name": "stdout",
     "output_type": "stream",
     "text": [
      "   ✅ Found 60 jobs\n",
      "\n",
      "🔍 Searching for 'python developer' jobs in Berlin, Germany...\n"
     ]
    },
    {
     "name": "stderr",
     "output_type": "stream",
     "text": [
      "2025-10-22 04:32:51,398 - ERROR - JobSpy:Glassdoor - Glassdoor response status code 400\n",
      "2025-10-22 04:32:51,418 - ERROR - JobSpy:Glassdoor - Glassdoor: location not parsed\n",
      "2025-10-22 04:32:51,645 - ERROR - JobSpy:ZipRecruiter - ZipRecruiter response status code 403 with response: {\"status_code\":403,\"request_id\":\"CFRAY:9925962bf950e508-IAD\",\"error_code\":\"geoblocked-gdpr\",\"error_message\":\"This app is not available in the European Union, which enforces the General Data Protection Regulation (GDPR). Because of this regulation, ZipRecruiter cannot provide access at this time.\"}\n"
     ]
    },
    {
     "name": "stdout",
     "output_type": "stream",
     "text": [
      "   ✅ Found 52 jobs\n",
      "\n"
     ]
    },
    {
     "name": "stderr",
     "output_type": "stream",
     "text": [
      "2025-10-22 04:33:08,009 - ERROR - JobSpy:Glassdoor - Glassdoor response status code 400\n"
     ]
    },
    {
     "name": "stdout",
     "output_type": "stream",
     "text": [
      "🔍 Searching for 'business analyst' jobs in Berlin, Germany...\n"
     ]
    },
    {
     "name": "stderr",
     "output_type": "stream",
     "text": [
      "2025-10-22 04:33:08,025 - ERROR - JobSpy:Glassdoor - Glassdoor: location not parsed\n",
      "2025-10-22 04:33:08,231 - ERROR - JobSpy:ZipRecruiter - ZipRecruiter response status code 403 with response: {\"error_message\":\"This app is not available in the European Union, which enforces the General Data Protection Regulation (GDPR). Because of this regulation, ZipRecruiter cannot provide access at this time.\",\"error_code\":\"geoblocked-gdpr\",\"request_id\":\"CFRAY:99259693cc4a761f-IAD\",\"status_code\":403}\n"
     ]
    },
    {
     "name": "stdout",
     "output_type": "stream",
     "text": [
      "   ✅ Found 60 jobs\n",
      "\n"
     ]
    },
    {
     "name": "stderr",
     "output_type": "stream",
     "text": [
      "2025-10-22 04:33:26,893 - ERROR - JobSpy:Glassdoor - Glassdoor response status code 400\n"
     ]
    },
    {
     "name": "stdout",
     "output_type": "stream",
     "text": [
      "🔍 Searching for 'SQL developer' jobs in Berlin, Germany...\n"
     ]
    },
    {
     "name": "stderr",
     "output_type": "stream",
     "text": [
      "2025-10-22 04:33:26,937 - ERROR - JobSpy:Glassdoor - Glassdoor: location not parsed\n",
      "2025-10-22 04:33:27,377 - ERROR - JobSpy:ZipRecruiter - ZipRecruiter response status code 403 with response: {\"status_code\":403,\"request_id\":\"CFRAY:99259709ca09e527-IAD\",\"error_message\":\"This app is not available in the European Union, which enforces the General Data Protection Regulation (GDPR). Because of this regulation, ZipRecruiter cannot provide access at this time.\",\"error_code\":\"geoblocked-gdpr\"}\n"
     ]
    },
    {
     "name": "stdout",
     "output_type": "stream",
     "text": [
      "   ✅ Found 14 jobs\n",
      "\n",
      "🔍 Searching for 'DevOps' jobs in Berlin, Germany...\n"
     ]
    },
    {
     "name": "stderr",
     "output_type": "stream",
     "text": [
      "2025-10-22 04:33:38,039 - ERROR - JobSpy:Glassdoor - Glassdoor response status code 400\n",
      "2025-10-22 04:33:38,065 - ERROR - JobSpy:Glassdoor - Glassdoor: location not parsed\n",
      "2025-10-22 04:33:38,291 - ERROR - JobSpy:ZipRecruiter - ZipRecruiter response status code 403 with response: {\"error_message\":\"This app is not available in the European Union, which enforces the General Data Protection Regulation (GDPR). Because of this regulation, ZipRecruiter cannot provide access at this time.\",\"request_id\":\"CFRAY:9925974fac4fe512-IAD\",\"error_code\":\"geoblocked-gdpr\",\"status_code\":403}\n"
     ]
    },
    {
     "name": "stdout",
     "output_type": "stream",
     "text": [
      "   ✅ Found 60 jobs\n",
      "\n",
      "🔍 Searching for 'Software Engineer' jobs in Berlin, Germany...\n"
     ]
    },
    {
     "name": "stderr",
     "output_type": "stream",
     "text": [
      "2025-10-22 04:33:57,042 - ERROR - JobSpy:Glassdoor - Glassdoor response status code 400\n",
      "2025-10-22 04:33:57,076 - ERROR - JobSpy:Glassdoor - Glassdoor: location not parsed\n",
      "2025-10-22 04:33:57,463 - ERROR - JobSpy:ZipRecruiter - ZipRecruiter response status code 403 with response: {\"error_code\":\"geoblocked-gdpr\",\"error_message\":\"This app is not available in the European Union, which enforces the General Data Protection Regulation (GDPR). Because of this regulation, ZipRecruiter cannot provide access at this time.\",\"request_id\":\"CFRAY:992597c62a014528-IAD\",\"status_code\":403}\n"
     ]
    },
    {
     "name": "stdout",
     "output_type": "stream",
     "text": [
      "   ✅ Found 60 jobs\n",
      "\n",
      "======================================================================\n",
      "✅ TOTAL UNIQUE JOBS FOUND: 233\n",
      "======================================================================\n",
      "\n",
      "📋 Columns in output CSV:\n",
      "   1. id\n",
      "   2. site\n",
      "   3. job_url\n",
      "   4. job_url_direct\n",
      "   5. title\n",
      "   6. company\n",
      "   7. location\n",
      "   8. date_posted\n",
      "   9. job_type\n",
      "   10. is_remote\n",
      "   11. company_industry\n",
      "   12. company_url_direct\n",
      "\n",
      "📊 Sample of jobs found:\n",
      "\n",
      "                                                         title                                company                 location job_type\n",
      "                               Data & Business Systems Analyst                                   wolt           Berlin, BE, DE      NaN\n",
      "                                  Working Student Data Analyst                        Lovehoney Group           Berlin, BE, DE      NaN\n",
      "                  CRM System Specialist & Data Analyst (w/m/d)                                 FRITZ!           Berlin, BE, DE fulltime\n",
      "               Senior Data Scientist (Consumer, Global Search)                          Delivery Hero           Berlin, BE, DE fulltime\n",
      "           Werkstudent (w/m/d) Data Analyst in der Grobplanung                         Siemens Energy           Berlin, BE, DE parttime\n",
      "                            (Senior) Frontend Engineer (d/f/m)                               Adevinta           Berlin, BE, DE fulltime\n",
      "                           Senior Data & AI Consultant (f/m/d)                                   E.ON           Berlin, BE, DE fulltime\n",
      "                                    Analytics Lead, Operations                                  SumUp           Berlin, BE, DE      NaN\n",
      "                                    Backend Engineer (Lending)                                  SumUp           Berlin, BE, DE      NaN\n",
      "                                     Fleet Performance Analyst                                   wolt           Berlin, BE, DE      NaN\n",
      "                                       Product Analyst (m/f/d)                            FORMEL Skin           Berlin, BE, DE fulltime\n",
      "                                                  Head of Data                                    n8n           Berlin, BE, DE fulltime\n",
      "                                   Senior Data Analyst (m/f/d)                                   7NXT Berlin-Kreuzberg, BE, DE fulltime\n",
      "Duales Studium – Bachelor of Science Informatik / Data Science Kassenärztliche Bundesvereinigung KdöR           Berlin, BE, DE      NaN\n",
      "                  Senior/Staff Data Analyst - People Analytics                          Delivery Hero           Berlin, BE, DE fulltime\n",
      "\n",
      "💾 Results saved to: berlin_tech_jobs.csv\n"
     ]
    },
    {
     "data": {
      "text/html": [
       "<a href='berlin_tech_jobs.csv' target='_blank'>berlin_tech_jobs.csv</a><br>"
      ],
      "text/plain": [
       "c:\\Users\\krupa\\Desktop\\Bootcamp\\project_keiz_connect\\data\\berlin_tech_jobs.csv"
      ]
     },
     "metadata": {},
     "output_type": "display_data"
    },
    {
     "name": "stdout",
     "output_type": "stream",
     "text": [
      "🔗 Click the link above to download the file.\n"
     ]
    }
   ],
   "source": [
    "import csv\n",
    "import pandas as pd\n",
    "from datetime import datetime\n",
    "import time\n",
    "from jobspy import scrape_jobs\n",
    "\n",
    "#Define Job Scraping Function\n",
    "def fetch_jobs_with_jobspy(\n",
    "    search_term: str = \"software engineer\",\n",
    "    location: str = \"Berlin, Germany\",\n",
    "    results_wanted: int = 50,\n",
    "    hours_old: int = 168\n",
    "):\n",
    "    try:\n",
    "        print(f\"🔍 Searching for '{search_term}' jobs in {location}...\")\n",
    "\n",
    "        jobs = scrape_jobs(\n",
    "            site_name=[\"indeed\", \"linkedin\", \"zip_recruiter\", \"glassdoor\"],\n",
    "            search_term=search_term,\n",
    "            location=location,\n",
    "            results_wanted=results_wanted,\n",
    "            hours_old=hours_old,\n",
    "            country_indeed='Germany',\n",
    "            linkedin_fetch_description=False\n",
    "        )\n",
    "\n",
    "        if jobs is not None and not jobs.empty:\n",
    "            print(f\"   ✅ Found {len(jobs)} jobs\\n\")\n",
    "            return jobs\n",
    "        else:\n",
    "            print(f\"   ⚠️ No jobs found for '{search_term}' or scraping failed.\\n\")\n",
    "            return pd.DataFrame()\n",
    "\n",
    "    except Exception as e:\n",
    "        print(f\"   ❌ Error during scraping for '{search_term}': {str(e)}\\n\")\n",
    "        return pd.DataFrame()\n",
    "\n",
    "#Main Execution - Customize Your Search Here\n",
    "print(\"\\n\" + \"=\"*70)\n",
    "print(\"🚀 BERLIN TECH JOBS SCRAPER\")\n",
    "print(\"=\"*70 + \"\\n\")\n",
    "\n",
    "#CUSTOMIZE THESE SEARCH TERMS FOR YOUR JOB SEARCH\n",
    "search_terms = [\n",
    "    \"data analyst\",\n",
    "    \"python developer\",\n",
    "    \"business analyst\",\n",
    "    \"SQL developer\",\n",
    "    \"DevOps\",\n",
    "    \"Software Engineer\"\n",
    "]\n",
    "\n",
    "#CUSTOMIZE SEARCH PARAMETERS\n",
    "location = \"Berlin, Germany\"\n",
    "results_per_search = 30  # Number of jobs to fetch per search term\n",
    "days_old = 7  # How many days back to search (7 days = 168 hours)\n",
    "\n",
    "#Run the search\n",
    "all_jobs = []\n",
    "\n",
    "for term in search_terms:\n",
    "    jobs_df = fetch_jobs_with_jobspy(\n",
    "        search_term=term,\n",
    "        location=location,\n",
    "        results_wanted=results_per_search,\n",
    "        hours_old=days_old * 24  # Convert days to hours\n",
    "    )\n",
    "\n",
    "    if not jobs_df.empty:\n",
    "        all_jobs.append(jobs_df)\n",
    "\n",
    "    time.sleep(2)  # Wait 2 seconds between searches (rate limiting)\n",
    "\n",
    "#Process and Save Results\n",
    "\n",
    "if all_jobs:\n",
    "    # Combine all results\n",
    "    combined_df = pd.concat(all_jobs, ignore_index=True)\n",
    "\n",
    "    # Remove duplicates\n",
    "    combined_df = combined_df.drop_duplicates(\n",
    "        subset=['title', 'company'],\n",
    "        keep='first'\n",
    "    )\n",
    "\n",
    "    print(\"=\"*70)\n",
    "    print(f\"✅ TOTAL UNIQUE JOBS FOUND: {len(combined_df)}\")\n",
    "    print(\"=\"*70 + \"\\n\")\n",
    "\n",
    "    desired_columns = [\n",
    "        'id',\n",
    "        'site',\n",
    "        'job_url',\n",
    "        'job_url_direct',\n",
    "        'title',\n",
    "        'company',\n",
    "        'location',\n",
    "        'date_posted',\n",
    "        'job_type',\n",
    "        'is_remote',\n",
    "        'company_industry',\n",
    "        'company_url_direct'\n",
    "    ]\n",
    "    # Filter to only include columns that exist in the dataframe\n",
    "    available_columns = [col for col in desired_columns if col in combined_df.columns]\n",
    "\n",
    "    # Create filtered dataframe with only desired columns\n",
    "    filtered_df = combined_df[available_columns].copy()\n",
    "\n",
    "    # Display what columns we have\n",
    "    print(\"📋 Columns in output CSV:\")\n",
    "    for i, col in enumerate(available_columns, 1):\n",
    "        print(f\"   {i}. {col}\")\n",
    "    print()\n",
    "\n",
    "    # Display sample\n",
    "    print(\"📊 Sample of jobs found:\\n\")\n",
    "    display_cols = ['title', 'company', 'location', 'job_type']\n",
    "    print(combined_df[display_cols].head(15).to_string(index=False))\n",
    "\n",
    "    # Save to CSV\n",
    "    output_file = \"berlin_tech_jobs.csv\"\n",
    "    filtered_df.to_csv(output_file, index=False, quoting=csv.QUOTE_NONNUMERIC)\n",
    "    print(f\"\\n💾 Results saved to: {output_file}\")\n",
    "\n",
    "  # Download / expose file depending on environment\n",
    "try:\n",
    "    # Try Colab path\n",
    "    import importlib.util\n",
    "    if importlib.util.find_spec(\"google.colab\") is not None:\n",
    "        from google.colab import files\n",
    "        files.download(output_file)\n",
    "        print(f\"⬇️ Downloading {output_file} via Google Colab…\")\n",
    "    else:\n",
    "        # Not Colab: show a clickable link in Jupyter or print absolute path\n",
    "        try:\n",
    "            from IPython.display import FileLink, display\n",
    "            display(FileLink(output_file))\n",
    "            print(\"🔗 Click the link above to download the file.\")\n",
    "        except Exception:\n",
    "            import os\n",
    "            print(f\"💾 File saved locally at: {os.path.abspath(output_file)}\")\n",
    "except Exception as e:\n",
    "    print(f\"⚠️ Could not trigger a download automatically: {e}\")\n",
    "    import os\n",
    "    print(f\"💾 File is at: {os.path.abspath(output_file)}\")\n"
   ]
  }
 ],
 "metadata": {
  "colab": {
   "provenance": []
  },
  "kernelspec": {
   "display_name": "Python 3",
   "name": "python3"
  },
  "language_info": {
   "codemirror_mode": {
    "name": "ipython",
    "version": 3
   },
   "file_extension": ".py",
   "mimetype": "text/x-python",
   "name": "python",
   "nbconvert_exporter": "python",
   "pygments_lexer": "ipython3",
   "version": "3.12.10"
  }
 },
 "nbformat": 4,
 "nbformat_minor": 0
}
