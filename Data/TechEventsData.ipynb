{
  "cells": [
    {
      "cell_type": "code",
      "execution_count": 16,
      "metadata": {
        "colab": {
          "base_uri": "https://localhost:8080/"
        },
        "id": "D3Xf7tTSDQMT",
        "outputId": "fa4b16ba-0a00-4dc7-a8aa-f30643862968"
      },
      "outputs": [
        {
          "name": "stdout",
          "output_type": "stream",
          "text": [
            "Requirement already satisfied: beautifulsoup4 in /usr/local/lib/python3.12/dist-packages (4.13.5)\n",
            "Requirement already satisfied: requests in /usr/local/lib/python3.12/dist-packages (2.32.4)\n",
            "Collecting selenium\n",
            "  Downloading selenium-4.37.0-py3-none-any.whl.metadata (7.5 kB)\n",
            "Requirement already satisfied: pandas in /usr/local/lib/python3.12/dist-packages (2.2.2)\n",
            "Requirement already satisfied: soupsieve>1.2 in /usr/local/lib/python3.12/dist-packages (from beautifulsoup4) (2.8)\n",
            "Requirement already satisfied: typing-extensions>=4.0.0 in /usr/local/lib/python3.12/dist-packages (from beautifulsoup4) (4.15.0)\n",
            "Requirement already satisfied: charset_normalizer<4,>=2 in /usr/local/lib/python3.12/dist-packages (from requests) (3.4.4)\n",
            "Requirement already satisfied: idna<4,>=2.5 in /usr/local/lib/python3.12/dist-packages (from requests) (3.11)\n",
            "Requirement already satisfied: urllib3<3,>=1.21.1 in /usr/local/lib/python3.12/dist-packages (from requests) (2.5.0)\n",
            "Requirement already satisfied: certifi>=2017.4.17 in /usr/local/lib/python3.12/dist-packages (from requests) (2025.10.5)\n",
            "Collecting trio<1.0,>=0.31.0 (from selenium)\n",
            "  Downloading trio-0.31.0-py3-none-any.whl.metadata (8.5 kB)\n",
            "Collecting trio-websocket<1.0,>=0.12.2 (from selenium)\n",
            "  Downloading trio_websocket-0.12.2-py3-none-any.whl.metadata (5.1 kB)\n",
            "Requirement already satisfied: websocket-client<2.0,>=1.8.0 in /usr/local/lib/python3.12/dist-packages (from selenium) (1.9.0)\n",
            "Requirement already satisfied: numpy>=1.26.0 in /usr/local/lib/python3.12/dist-packages (from pandas) (2.0.2)\n",
            "Requirement already satisfied: python-dateutil>=2.8.2 in /usr/local/lib/python3.12/dist-packages (from pandas) (2.9.0.post0)\n",
            "Requirement already satisfied: pytz>=2020.1 in /usr/local/lib/python3.12/dist-packages (from pandas) (2025.2)\n",
            "Requirement already satisfied: tzdata>=2022.7 in /usr/local/lib/python3.12/dist-packages (from pandas) (2025.2)\n",
            "Requirement already satisfied: six>=1.5 in /usr/local/lib/python3.12/dist-packages (from python-dateutil>=2.8.2->pandas) (1.17.0)\n",
            "Requirement already satisfied: attrs>=23.2.0 in /usr/local/lib/python3.12/dist-packages (from trio<1.0,>=0.31.0->selenium) (25.4.0)\n",
            "Requirement already satisfied: sortedcontainers in /usr/local/lib/python3.12/dist-packages (from trio<1.0,>=0.31.0->selenium) (2.4.0)\n",
            "Collecting outcome (from trio<1.0,>=0.31.0->selenium)\n",
            "  Downloading outcome-1.3.0.post0-py2.py3-none-any.whl.metadata (2.6 kB)\n",
            "Requirement already satisfied: sniffio>=1.3.0 in /usr/local/lib/python3.12/dist-packages (from trio<1.0,>=0.31.0->selenium) (1.3.1)\n",
            "Collecting wsproto>=0.14 (from trio-websocket<1.0,>=0.12.2->selenium)\n",
            "  Downloading wsproto-1.2.0-py3-none-any.whl.metadata (5.6 kB)\n",
            "Requirement already satisfied: pysocks!=1.5.7,<2.0,>=1.5.6 in /usr/local/lib/python3.12/dist-packages (from urllib3[socks]<3.0,>=2.5.0->selenium) (1.7.1)\n",
            "Requirement already satisfied: h11<1,>=0.9.0 in /usr/local/lib/python3.12/dist-packages (from wsproto>=0.14->trio-websocket<1.0,>=0.12.2->selenium) (0.16.0)\n",
            "Downloading selenium-4.37.0-py3-none-any.whl (9.7 MB)\n",
            "\u001b[2K   \u001b[90m━━━━━━━━━━━━━━━━━━━━━━━━━━━━━━━━━━━━━━━━\u001b[0m \u001b[32m9.7/9.7 MB\u001b[0m \u001b[31m60.9 MB/s\u001b[0m eta \u001b[36m0:00:00\u001b[0m\n",
            "\u001b[?25hDownloading trio-0.31.0-py3-none-any.whl (512 kB)\n",
            "\u001b[2K   \u001b[90m━━━━━━━━━━━━━━━━━━━━━━━━━━━━━━━━━━━━━━━━\u001b[0m \u001b[32m512.7/512.7 kB\u001b[0m \u001b[31m29.6 MB/s\u001b[0m eta \u001b[36m0:00:00\u001b[0m\n",
            "\u001b[?25hDownloading trio_websocket-0.12.2-py3-none-any.whl (21 kB)\n",
            "Downloading outcome-1.3.0.post0-py2.py3-none-any.whl (10 kB)\n",
            "Downloading wsproto-1.2.0-py3-none-any.whl (24 kB)\n",
            "Installing collected packages: wsproto, outcome, trio, trio-websocket, selenium\n",
            "Successfully installed outcome-1.3.0.post0 selenium-4.37.0 trio-0.31.0 trio-websocket-0.12.2 wsproto-1.2.0\n"
          ]
        }
      ],
      "source": [
        "pip install beautifulsoup4 requests pandas"
      ]
    },
    {
      "cell_type": "code",
      "execution_count": 1,
      "metadata": {
        "colab": {
          "base_uri": "https://localhost:8080/"
        },
        "id": "45UFEGQihO_z",
        "outputId": "73809ee4-bc77-43f5-d8dd-495eab6dab2b"
      },
      "outputs": [
        {
          "name": "stdout",
          "output_type": "stream",
          "text": [
            "Fetching page 1: https://www.eventbrite.com/d/germany--berlin/tech/?page=1\n",
            "Fetching page 2: https://www.eventbrite.com/d/germany--berlin/tech/?page=2\n",
            "Fetching page 3: https://www.eventbrite.com/d/germany--berlin/tech/?page=3\n",
            "Fetching page 4: https://www.eventbrite.com/d/germany--berlin/tech/?page=4\n",
            "Fetching page 5: https://www.eventbrite.com/d/germany--berlin/tech/?page=5\n",
            "Fetching page 6: https://www.eventbrite.com/d/germany--berlin/tech/?page=6\n",
            "Fetching page 7: https://www.eventbrite.com/d/germany--berlin/tech/?page=7\n",
            "Fetching page 8: https://www.eventbrite.com/d/germany--berlin/tech/?page=8\n",
            "Fetching page 9: https://www.eventbrite.com/d/germany--berlin/tech/?page=9\n",
            "Fetching page 10: https://www.eventbrite.com/d/germany--berlin/tech/?page=10\n",
            "Sample results:\n",
            "                                               Title  \\\n",
            "0        I Missed Out on AI and NVIDIA, What’s Next?   \n",
            "1  AI & Teens: The Conversation You Can't Afford ...   \n",
            "2                      DM To Dollars 3-Day Challenge   \n",
            "3  Berlin Deep Tech Nexus Meetup #7 - TU Berlin -...   \n",
            "4  Berlin Tech Mixer and Social (Tech / AI / Data...   \n",
            "\n",
            "                                                Link  \\\n",
            "0  https://www.eventbrite.com/e/i-missed-out-on-a...   \n",
            "1  https://www.eventbrite.com/e/ai-teens-the-conv...   \n",
            "2  https://www.eventbrite.com/e/dm-to-dollars-3-d...   \n",
            "3  https://www.eventbrite.com/e/berlin-deep-tech-...   \n",
            "4  https://www.eventbrite.com.au/e/berlin-tech-mi...   \n",
            "\n",
            "                 Date & Time  \\\n",
            "0                 Going fast   \n",
            "1    Fri, Nov 7, 9:00 AM PST   \n",
            "2  Tue, Oct 28, 12:00 PM EDT   \n",
            "3             Sales end soon   \n",
            "4             Sales end soon   \n",
            "\n",
            "                                            Location  \n",
            "0                                             Online  \n",
            "1                                             Online  \n",
            "2                                             Online  \n",
            "3  Berlin · TU Berlin, EINS - Innovationsplattfor...  \n",
            "4                              Berlin · Anna Koschke  \n",
            "💾 Saved 130 events to berlin_tech_events_20251021_175749.csv\n"
          ]
        },
        {
          "name": "stderr",
          "output_type": "stream",
          "text": [
            "C:\\Users\\krupa\\AppData\\Local\\Temp\\ipykernel_33912\\3685546507.py:74: DeprecationWarning: datetime.datetime.utcnow() is deprecated and scheduled for removal in a future version. Use timezone-aware objects to represent datetimes in UTC: datetime.datetime.now(datetime.UTC).\n",
            "  timestamp = datetime.utcnow().strftime(\"%Y%m%d_%H%M%S\")\n"
          ]
        }
      ],
      "source": [
        "import requests\n",
        "from bs4 import BeautifulSoup\n",
        "import pandas as pd\n",
        "import time\n",
        "from datetime import datetime\n",
        "\n",
        "def scrape_eventbrite_ai_berlin(pages=5, pause=1.0):\n",
        "    \"\"\"\n",
        "    Scrape AI events in Berlin from Eventbrite by parsing <li> cards.\n",
        "    Fixes date/time and location extraction.\n",
        "    \"\"\"\n",
        "    base_url = \"https://www.eventbrite.com/d/germany--berlin/tech/\"\n",
        "    headers = {\"User-Agent\": \"Mozilla/5.0\"}\n",
        "    events = []\n",
        "\n",
        "    for page in range(1, pages + 1):\n",
        "        url = f\"{base_url}?page={page}\"\n",
        "        print(f\"Fetching page {page}: {url}\")\n",
        "        resp = requests.get(url, headers=headers)\n",
        "        resp.raise_for_status()\n",
        "        soup = BeautifulSoup(resp.text, \"html.parser\")\n",
        "\n",
        "        # Select each card container\n",
        "        cards = soup.select(\"li div.SearchResultPanelContentEventCard-module__card___Xno0V\")\n",
        "        if not cards:\n",
        "            print(\"No cards found; check selector.\")\n",
        "            break\n",
        "\n",
        "        for card in cards:\n",
        "            # Link & title\n",
        "            a = card.select_one(\"a.event-card-link\")\n",
        "            link = a[\"href\"] if a else None\n",
        "            h3 = card.select_one(\"h3\")\n",
        "            title = h3.get_text(strip=True) if h3 else None\n",
        "\n",
        "            # Date & Time: the first <p> with bold style under details\n",
        "            date_el = card.select_one(\"p.Typography_body-md-bold__487rx\")\n",
        "            if not date_el:\n",
        "                # fallback horizontal card selector\n",
        "                date_el = card.select_one(\"p.event-card__clamp-line--one\")\n",
        "            date_time = date_el.get_text(strip=True) if date_el else None\n",
        "\n",
        "            # Location: from data-event-location attribute\n",
        "            location = a.get(\"data-event-location\") if a and a.has_attr(\"data-event-location\") else None\n",
        "            if location == \"online\":\n",
        "                location = \"Online\"\n",
        "            else:\n",
        "                # fallback: text under organizer\n",
        "                loc_fallback = card.select_one(\"p.Typography_body-md__487rx\")\n",
        "                location = loc_fallback.get_text(strip=True) if loc_fallback else location\n",
        "\n",
        "            events.append({\n",
        "                \"Title\": title,\n",
        "                \"Link\": link,\n",
        "                \"Date & Time\": date_time,\n",
        "                \"Location\": location\n",
        "            })\n",
        "\n",
        "        time.sleep(pause)\n",
        "\n",
        "    return pd.DataFrame(events)\n",
        "\n",
        "def main():\n",
        "    df = scrape_eventbrite_ai_berlin(pages=10, pause=1.0)\n",
        "    df.dropna(subset=[\"Title\"], inplace=True)\n",
        "    df.drop_duplicates(subset=[\"Link\"], inplace=True)\n",
        "    if df.empty:\n",
        "        print(\"No events found.\")\n",
        "        return\n",
        "\n",
        "    print(\"Sample results:\")\n",
        "    print(df.head())\n",
        "\n",
        "    timestamp = datetime.utcnow().strftime(\"%Y%m%d_%H%M%S\")\n",
        "    filename  = f\"berlin_tech_events_{timestamp}.csv\"\n",
        "    df.to_csv(filename, index=False)\n",
        "    print(f\"💾 Saved {len(df)} events to {filename}\")\n",
        "\n",
        "if __name__ == \"__main__\":\n",
        "    main()\n"
      ]
    }
  ],
  "metadata": {
    "colab": {
      "provenance": []
    },
    "kernelspec": {
      "display_name": "Python 3",
      "name": "python3"
    },
    "language_info": {
      "codemirror_mode": {
        "name": "ipython",
        "version": 3
      },
      "file_extension": ".py",
      "mimetype": "text/x-python",
      "name": "python",
      "nbconvert_exporter": "python",
      "pygments_lexer": "ipython3",
      "version": "3.12.10"
    }
  },
  "nbformat": 4,
  "nbformat_minor": 0
}
